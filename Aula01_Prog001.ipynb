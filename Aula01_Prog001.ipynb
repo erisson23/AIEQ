{
  "nbformat": 4,
  "nbformat_minor": 0,
  "metadata": {
    "colab": {
      "provenance": [],
      "authorship_tag": "ABX9TyN9VRH6Wd06QGF9biLma2wC",
      "include_colab_link": true
    },
    "kernelspec": {
      "name": "python3",
      "display_name": "Python 3"
    },
    "language_info": {
      "name": "python"
    }
  },
  "cells": [
    {
      "cell_type": "markdown",
      "metadata": {
        "id": "view-in-github",
        "colab_type": "text"
      },
      "source": [
        "<a href=\"https://colab.research.google.com/github/erisson23/AIEQ/blob/main/Aula01_Prog001.ipynb\" target=\"_parent\"><img src=\"https://colab.research.google.com/assets/colab-badge.svg\" alt=\"Open In Colab\"/></a>"
      ]
    },
    {
      "cell_type": "code",
      "source": [
        "#Calculadora, print, bibliotecas, listas, loops, indexação, tipagem,condições, intervalo(range), break, loop (while)"
      ],
      "metadata": {
        "id": "k9y9sTYpd1fP"
      },
      "execution_count": null,
      "outputs": []
    },
    {
      "cell_type": "code",
      "execution_count": null,
      "metadata": {
        "colab": {
          "base_uri": "https://localhost:8080/"
        },
        "id": "CaJ-BG5Mlfvr",
        "outputId": "c04786d2-3050-4a7f-d48a-a26c2a987c9d"
      },
      "outputs": [
        {
          "output_type": "stream",
          "name": "stdout",
          "text": [
            "3 4 7\n"
          ]
        }
      ],
      "source": [
        "x=3\n",
        "y=4\n",
        "z = x + y\n",
        "print(x,y,z)"
      ]
    },
    {
      "cell_type": "code",
      "source": [
        "\n",
        "print (pow(3,2))"
      ],
      "metadata": {
        "colab": {
          "base_uri": "https://localhost:8080/"
        },
        "id": "1W6GmeKjnQsS",
        "outputId": "8b325b17-c942-4b83-ae69-a699ddd20a0c"
      },
      "execution_count": null,
      "outputs": [
        {
          "output_type": "stream",
          "name": "stdout",
          "text": [
            "9\n"
          ]
        }
      ]
    },
    {
      "cell_type": "code",
      "source": [
        "from re import X\n",
        "print(y%X)"
      ],
      "metadata": {
        "colab": {
          "base_uri": "https://localhost:8080/"
        },
        "id": "K6hxCDdunuu0",
        "outputId": "462b6e85-1508-47c7-ecbb-8dc8a7253de5"
      },
      "execution_count": null,
      "outputs": [
        {
          "output_type": "stream",
          "name": "stdout",
          "text": [
            "4\n"
          ]
        }
      ]
    },
    {
      "cell_type": "code",
      "source": [
        "print(y % X)"
      ],
      "metadata": {
        "colab": {
          "base_uri": "https://localhost:8080/"
        },
        "id": "muBrgTx1n4Yb",
        "outputId": "f90aaabb-9cfc-4adb-8751-0837d0eed2df"
      },
      "execution_count": null,
      "outputs": [
        {
          "output_type": "stream",
          "name": "stdout",
          "text": [
            "4\n"
          ]
        }
      ]
    },
    {
      "cell_type": "code",
      "source": [
        "x = [2,3,4,5,6,7,8]\n",
        "for xi in x:\n",
        "  "
      ],
      "metadata": {
        "id": "w2CSpgfOoLoK",
        "colab": {
          "base_uri": "https://localhost:8080/",
          "height": 130
        },
        "outputId": "65b49048-3d11-4ffc-b42a-7ec2eeb5aee1"
      },
      "execution_count": null,
      "outputs": [
        {
          "output_type": "error",
          "ename": "IndentationError",
          "evalue": "ignored",
          "traceback": [
            "\u001b[0;36m  File \u001b[0;32m\"<ipython-input-1-e4009f70fa44>\"\u001b[0;36m, line \u001b[0;32m3\u001b[0m\n\u001b[0;31m    \u001b[0m\n\u001b[0m    ^\u001b[0m\n\u001b[0;31mIndentationError\u001b[0m\u001b[0;31m:\u001b[0m expected an indented block\n"
          ]
        }
      ]
    },
    {
      "cell_type": "code",
      "source": [
        "x = 13\n",
        "y = 3\n",
        "print(x % y)"
      ],
      "metadata": {
        "colab": {
          "base_uri": "https://localhost:8080/"
        },
        "id": "PFyS9rRtUyeF",
        "outputId": "cca6f845-a52c-4d53-b0bd-3fc0e1cb3e04"
      },
      "execution_count": null,
      "outputs": [
        {
          "output_type": "stream",
          "name": "stdout",
          "text": [
            "1\n"
          ]
        }
      ]
    },
    {
      "cell_type": "code",
      "source": [
        "x = [2,3,4,5,6,7,8] #Lista\n",
        "for xi in x: #Loop e sequência de comandos\n",
        "  print(xi) #Prestar atenção na identação"
      ],
      "metadata": {
        "colab": {
          "base_uri": "https://localhost:8080/"
        },
        "id": "WJd6twV3VLcs",
        "outputId": "175d8661-0b55-4c7a-eccd-f29f14cf8a9a"
      },
      "execution_count": null,
      "outputs": [
        {
          "output_type": "stream",
          "name": "stdout",
          "text": [
            "2\n",
            "3\n",
            "4\n",
            "5\n",
            "6\n",
            "7\n",
            "8\n"
          ]
        }
      ]
    },
    {
      "cell_type": "code",
      "source": [
        "w = ['a',1,'b','c',1.3]\n",
        "for wi in w:\n",
        "    print(type(wi))"
      ],
      "metadata": {
        "colab": {
          "base_uri": "https://localhost:8080/"
        },
        "id": "S2EkVcBbVhIh",
        "outputId": "cbcd1685-7bff-413e-8f01-b4cbb1748717"
      },
      "execution_count": null,
      "outputs": [
        {
          "output_type": "stream",
          "name": "stdout",
          "text": [
            "<class 'str'>\n",
            "<class 'int'>\n",
            "<class 'str'>\n",
            "<class 'str'>\n",
            "<class 'float'>\n"
          ]
        }
      ]
    },
    {
      "cell_type": "code",
      "source": [
        "lista = [0,1,12,3,4,5,6,7,8]\n",
        "for listai in lista:\n",
        "    if listai % 2 == 0:\n",
        "        print(listai,' é um nº par')\n",
        "    else:\n",
        "        print(listai,'é um nº ímpar')"
      ],
      "metadata": {
        "colab": {
          "base_uri": "https://localhost:8080/"
        },
        "id": "JX5QOI8FYQrf",
        "outputId": "6c154a60-50e4-4e49-c426-d91c0c030251"
      },
      "execution_count": null,
      "outputs": [
        {
          "output_type": "stream",
          "name": "stdout",
          "text": [
            "0  é um nº par\n",
            "1 é um nº ímpar\n",
            "12  é um nº par\n",
            "3 é um nº ímpar\n",
            "4  é um nº par\n",
            "5 é um nº ímpar\n",
            "6  é um nº par\n",
            "7 é um nº ímpar\n",
            "8  é um nº par\n"
          ]
        }
      ]
    },
    {
      "cell_type": "code",
      "source": [
        "import numpy as np"
      ],
      "metadata": {
        "id": "ZJTTFpeIaXC0"
      },
      "execution_count": 13,
      "outputs": []
    },
    {
      "cell_type": "code",
      "source": [
        "z = np.array([1.0,2.0,3.0,4.0,5.0,6.0,7.0,8.0,9.0,10.0,11.0,12.0,13.0,14.0,15.0,16.0,17.0])"
      ],
      "metadata": {
        "id": "72O3Ed4Qac1h"
      },
      "execution_count": null,
      "outputs": []
    },
    {
      "cell_type": "code",
      "source": [
        "print (z)"
      ],
      "metadata": {
        "colab": {
          "base_uri": "https://localhost:8080/"
        },
        "id": "zlW5uoa8bWeh",
        "outputId": "17d2ddc0-f7ea-4b1f-83c4-63307ed33a26"
      },
      "execution_count": null,
      "outputs": [
        {
          "output_type": "stream",
          "name": "stdout",
          "text": [
            "[ 1.  2.  3.  4.  5.  6.  7.  8.  9. 10. 11. 12. 13. 14. 15. 16. 17.]\n"
          ]
        }
      ]
    },
    {
      "cell_type": "code",
      "source": [
        "lista[2]"
      ],
      "metadata": {
        "colab": {
          "base_uri": "https://localhost:8080/"
        },
        "id": "inW9ZVqtbZZD",
        "outputId": "06518b63-e458-482e-ba8c-d4d6fb59919c"
      },
      "execution_count": null,
      "outputs": [
        {
          "output_type": "execute_result",
          "data": {
            "text/plain": [
              "12"
            ]
          },
          "metadata": {},
          "execution_count": 17
        }
      ]
    },
    {
      "cell_type": "code",
      "source": [
        "x = [1,2,3,4]\n",
        "for i in range(4):\n",
        "    print(i,x[i])"
      ],
      "metadata": {
        "colab": {
          "base_uri": "https://localhost:8080/"
        },
        "id": "aegWwC45b-tN",
        "outputId": "2e604acb-10b9-4419-824d-b9938401e96d"
      },
      "execution_count": null,
      "outputs": [
        {
          "output_type": "stream",
          "name": "stdout",
          "text": [
            "0 1\n",
            "1 2\n",
            "2 16\n",
            "3 8\n"
          ]
        }
      ]
    },
    {
      "cell_type": "code",
      "source": [
        "tamanho = len(x) #Se não souber tamnho da lista ou lista muito grande. len retorna tamanho da lista\n",
        "for i in range(tamanho):\n",
        "    print(i,x[i])\n",
        "    print('------')"
      ],
      "metadata": {
        "colab": {
          "base_uri": "https://localhost:8080/"
        },
        "id": "nhYfcrk0cvHl",
        "outputId": "24457b53-a3c0-41b0-a482-3e1295642bb9"
      },
      "execution_count": null,
      "outputs": [
        {
          "output_type": "stream",
          "name": "stdout",
          "text": [
            "0 1\n",
            "------\n",
            "1 2\n",
            "------\n",
            "2 16\n",
            "------\n",
            "3 8\n",
            "------\n"
          ]
        }
      ]
    },
    {
      "cell_type": "code",
      "source": [
        "#Objetivo é imprimir a seguinte informação x = 1,1,2,3,5,8..."
      ],
      "metadata": {
        "id": "W8XU98yfeZ6C"
      },
      "execution_count": null,
      "outputs": []
    },
    {
      "cell_type": "code",
      "source": [
        "n=20\n",
        "x=1\n",
        "y=1\n",
        "print(x)\n",
        "print(y)\n",
        "for i in range(n):\n",
        "    aux = y\n",
        "    y = x + y\n",
        "    x = aux\n",
        "    print(y)"
      ],
      "metadata": {
        "colab": {
          "base_uri": "https://localhost:8080/"
        },
        "id": "d0s39zrje4M8",
        "outputId": "cadbbd27-22bc-415f-f521-e905832e6e9e"
      },
      "execution_count": null,
      "outputs": [
        {
          "output_type": "stream",
          "name": "stdout",
          "text": [
            "1\n",
            "1\n",
            "2\n",
            "3\n",
            "5\n",
            "8\n",
            "13\n",
            "21\n",
            "34\n",
            "55\n",
            "89\n",
            "144\n",
            "233\n",
            "377\n",
            "610\n",
            "987\n",
            "1597\n",
            "2584\n",
            "4181\n",
            "6765\n",
            "10946\n",
            "17711\n"
          ]
        }
      ]
    },
    {
      "cell_type": "code",
      "source": [
        "n=20\n",
        "x=1\n",
        "y=1\n",
        "print(x)\n",
        "print(y)\n",
        "for i in range(n):\n",
        "    x,y = y, x+y\n",
        "    print(y)"
      ],
      "metadata": {
        "colab": {
          "base_uri": "https://localhost:8080/"
        },
        "id": "vgWRPx8lh7L1",
        "outputId": "4cd9dd9e-e104-43f2-9022-f4e1587055f7"
      },
      "execution_count": null,
      "outputs": [
        {
          "output_type": "stream",
          "name": "stdout",
          "text": [
            "1\n",
            "1\n",
            "2\n",
            "3\n",
            "5\n",
            "8\n",
            "13\n",
            "21\n",
            "34\n",
            "55\n",
            "89\n",
            "144\n",
            "233\n",
            "377\n",
            "610\n",
            "987\n",
            "1597\n",
            "2584\n",
            "4181\n",
            "6765\n",
            "10946\n",
            "17711\n"
          ]
        }
      ]
    },
    {
      "cell_type": "code",
      "source": [
        "n=20\n",
        "x=1\n",
        "y=0\n",
        "k=1\n",
        "for i in range(n):\n",
        "    x,y = y, x+y\n",
        "    if y >100:\n",
        "        print('Na posição',k,'está o número',y,'este elemento é maior do que 100')\n",
        "    else:\n",
        "         print('Na posição:',k,'está o número',y,'este elemento é menor do que 100')\n",
        "    k = k +1"
      ],
      "metadata": {
        "colab": {
          "base_uri": "https://localhost:8080/"
        },
        "id": "10cETmGCl-Mw",
        "outputId": "a6b9deba-4da9-4b28-86e1-8b21b347b578"
      },
      "execution_count": null,
      "outputs": [
        {
          "output_type": "stream",
          "name": "stdout",
          "text": [
            "Na posição: 1 está o número 1 este elemento é menor do que 100\n",
            "Na posição: 2 está o número 1 este elemento é menor do que 100\n",
            "Na posição: 3 está o número 2 este elemento é menor do que 100\n",
            "Na posição: 4 está o número 3 este elemento é menor do que 100\n",
            "Na posição: 5 está o número 5 este elemento é menor do que 100\n",
            "Na posição: 6 está o número 8 este elemento é menor do que 100\n",
            "Na posição: 7 está o número 13 este elemento é menor do que 100\n",
            "Na posição: 8 está o número 21 este elemento é menor do que 100\n",
            "Na posição: 9 está o número 34 este elemento é menor do que 100\n",
            "Na posição: 10 está o número 55 este elemento é menor do que 100\n",
            "Na posição: 11 está o número 89 este elemento é menor do que 100\n",
            "Na posição: 12 está o número 144 este elemento é maior do que 100\n",
            "Na posição: 13 está o número 233 este elemento é maior do que 100\n",
            "Na posição: 14 está o número 377 este elemento é maior do que 100\n",
            "Na posição: 15 está o número 610 este elemento é maior do que 100\n",
            "Na posição: 16 está o número 987 este elemento é maior do que 100\n",
            "Na posição: 17 está o número 1597 este elemento é maior do que 100\n",
            "Na posição: 18 está o número 2584 este elemento é maior do que 100\n",
            "Na posição: 19 está o número 4181 este elemento é maior do que 100\n",
            "Na posição: 20 está o número 6765 este elemento é maior do que 100\n"
          ]
        }
      ]
    },
    {
      "cell_type": "code",
      "source": [
        "n=20\n",
        "x=1\n",
        "y=0\n",
        "k=1\n",
        "for i in range(n):\n",
        "    x,y = y, x+y\n",
        "    if y >100:\n",
        "        print('Na posição',k,'está o número',y,'este elemento é maior do que 100')\n",
        "        break\n",
        "    else:\n",
        "         print('Na posição:',k,'está o número',y,'este elemento é menor do que 100')\n",
        "\n",
        "    k = k +1"
      ],
      "metadata": {
        "colab": {
          "base_uri": "https://localhost:8080/"
        },
        "id": "m3OBAPwyprj7",
        "outputId": "3e7ba44d-ac78-4aef-c749-a1f7d77f74ad"
      },
      "execution_count": null,
      "outputs": [
        {
          "output_type": "stream",
          "name": "stdout",
          "text": [
            "Na posição: 1 está o número 1 este elemento é menor do que 100\n",
            "Na posição: 2 está o número 1 este elemento é menor do que 100\n",
            "Na posição: 3 está o número 2 este elemento é menor do que 100\n",
            "Na posição: 4 está o número 3 este elemento é menor do que 100\n",
            "Na posição: 5 está o número 5 este elemento é menor do que 100\n",
            "Na posição: 6 está o número 8 este elemento é menor do que 100\n",
            "Na posição: 7 está o número 13 este elemento é menor do que 100\n",
            "Na posição: 8 está o número 21 este elemento é menor do que 100\n",
            "Na posição: 9 está o número 34 este elemento é menor do que 100\n",
            "Na posição: 10 está o número 55 este elemento é menor do que 100\n",
            "Na posição: 11 está o número 89 este elemento é menor do que 100\n",
            "Na posição 12 está o número 144 este elemento é maior do que 100\n"
          ]
        }
      ]
    },
    {
      "cell_type": "code",
      "source": [
        "x=1\n",
        "y=0\n",
        "k=1\n",
        "while y<100:\n",
        "    x,y = y, x+y\n",
        "    print('Na posição:',k,'está o número',y,'este elemento é menor do que 100')\n",
        "    k = k +1"
      ],
      "metadata": {
        "colab": {
          "base_uri": "https://localhost:8080/"
        },
        "id": "FajUMy8rqV0Y",
        "outputId": "14da049a-06bf-45d0-b65a-6bb55275bd71"
      },
      "execution_count": null,
      "outputs": [
        {
          "output_type": "stream",
          "name": "stdout",
          "text": [
            "Na posição: 1 está o número 1 este elemento é menor do que 100\n",
            "Na posição: 2 está o número 1 este elemento é menor do que 100\n",
            "Na posição: 3 está o número 2 este elemento é menor do que 100\n",
            "Na posição: 4 está o número 3 este elemento é menor do que 100\n",
            "Na posição: 5 está o número 5 este elemento é menor do que 100\n",
            "Na posição: 6 está o número 8 este elemento é menor do que 100\n",
            "Na posição: 7 está o número 13 este elemento é menor do que 100\n",
            "Na posição: 8 está o número 21 este elemento é menor do que 100\n",
            "Na posição: 9 está o número 34 este elemento é menor do que 100\n",
            "Na posição: 10 está o número 55 este elemento é menor do que 100\n",
            "Na posição: 11 está o número 89 este elemento é menor do que 100\n",
            "Na posição: 12 está o número 144 este elemento é menor do que 100\n"
          ]
        }
      ]
    },
    {
      "cell_type": "code",
      "source": [
        "x=1\n",
        "y=0\n",
        "k=1\n",
        "while True:\n",
        "    x,y = y, x+y\n",
        "    if y >100:\n",
        "        print('Na posição',k,'está o número',y,'este elemento é maior do que 100')\n",
        "        break\n",
        "    else:\n",
        "         print('Na posição:',k,'está o número',y,'este elemento é menor do que 100')\n",
        "    k = k +1"
      ],
      "metadata": {
        "colab": {
          "base_uri": "https://localhost:8080/"
        },
        "id": "vYyM90rot4n9",
        "outputId": "23cfffbe-dcaa-42d0-a8d1-63d90e9a7254"
      },
      "execution_count": null,
      "outputs": [
        {
          "output_type": "stream",
          "name": "stdout",
          "text": [
            "Na posição: 1 está o número 1 este elemento é menor do que 100\n",
            "Na posição: 2 está o número 1 este elemento é menor do que 100\n",
            "Na posição: 3 está o número 2 este elemento é menor do que 100\n",
            "Na posição: 4 está o número 3 este elemento é menor do que 100\n",
            "Na posição: 5 está o número 5 este elemento é menor do que 100\n",
            "Na posição: 6 está o número 8 este elemento é menor do que 100\n",
            "Na posição: 7 está o número 13 este elemento é menor do que 100\n",
            "Na posição: 8 está o número 21 este elemento é menor do que 100\n",
            "Na posição: 9 está o número 34 este elemento é menor do que 100\n",
            "Na posição: 10 está o número 55 este elemento é menor do que 100\n",
            "Na posição: 11 está o número 89 este elemento é menor do que 100\n",
            "Na posição 12 está o número 144 este elemento é maior do que 100\n"
          ]
        }
      ]
    },
    {
      "cell_type": "code",
      "source": [
        "entrada = int(input('Entre com o máximo de posições desejadas:')) #Deve ser inteiro deviso o loop só é executado com entrada inteira, ver próximo comentário\n",
        "x=1\n",
        "y=0\n",
        "k=1\n",
        "for i in range(entrada):#Loope trabalha com números inteiros(Loop 1 depois loope 2... Isso pq ele percorre elementos de uma lista,que são inteiros)\n",
        "    x,y = y, x+y\n",
        "    if y >100:\n",
        "        print('Na posição',k,'está o número',y,'este elemento é maior do que 100')\n",
        "    else:\n",
        "         print('Na posição:',k,'está o número',y,'este elemento é menor do que 100')\n",
        "    k = k +1"
      ],
      "metadata": {
        "colab": {
          "base_uri": "https://localhost:8080/"
        },
        "id": "vx2jYBmQujO1",
        "outputId": "6305be08-c6bd-4794-f511-32de945c0d59"
      },
      "execution_count": null,
      "outputs": [
        {
          "output_type": "stream",
          "name": "stdout",
          "text": [
            "Entre com o máximo de posições desejadas:10\n",
            "Na posição: 1 está o número 1 este elemento é menor do que 100\n",
            "Na posição: 2 está o número 1 este elemento é menor do que 100\n",
            "Na posição: 3 está o número 2 este elemento é menor do que 100\n",
            "Na posição: 4 está o número 3 este elemento é menor do que 100\n",
            "Na posição: 5 está o número 5 este elemento é menor do que 100\n",
            "Na posição: 6 está o número 8 este elemento é menor do que 100\n",
            "Na posição: 7 está o número 13 este elemento é menor do que 100\n",
            "Na posição: 8 está o número 21 este elemento é menor do que 100\n",
            "Na posição: 9 está o número 34 este elemento é menor do que 100\n",
            "Na posição: 10 está o número 55 este elemento é menor do que 100\n"
          ]
        }
      ]
    },
    {
      "cell_type": "code",
      "source": [
        "#Trabalhando com a biblioteca np\n",
        "\n",
        "xx = 3.14159265\n",
        "print(xx)\n",
        "print(np.pi)"
      ],
      "metadata": {
        "colab": {
          "base_uri": "https://localhost:8080/"
        },
        "id": "jhxoiQWbwgGF",
        "outputId": "a53a3fad-f0c9-4203-ef61-ed860d6ab2cb"
      },
      "execution_count": null,
      "outputs": [
        {
          "output_type": "stream",
          "name": "stdout",
          "text": [
            "3.14159265\n",
            "3.141592653589793\n"
          ]
        }
      ]
    },
    {
      "cell_type": "code",
      "source": [
        "#Construção de funções para chama-las em uma outra oportunidade com objetivo de minimizar o tamanho do código\n",
        "#Exemplo definindo uma função que retorna se o número é par ou ímpar\n",
        "def Testa(x):\n",
        "    if x % 2 == 0:\n",
        "        resp = 'par' #Ou return = 'par'\n",
        "    else:\n",
        "         resp = 'ímpar' #Ou return = 'ímpar'\n",
        "    return resp #Eliminar essa linha caso usar return = 'par' e return = 'ímpar'"
      ],
      "metadata": {
        "id": "7a1ji8laybZr"
      },
      "execution_count": null,
      "outputs": []
    },
    {
      "cell_type": "code",
      "source": [
        "lista = [1,2,3,4,5,6]\n",
        "for xi in lista:\n",
        "    print(xi,Testa(xi))"
      ],
      "metadata": {
        "colab": {
          "base_uri": "https://localhost:8080/"
        },
        "id": "qKHnLzMnzJBV",
        "outputId": "a80ba7de-68b0-4170-ff71-39f43ad9a2d7"
      },
      "execution_count": null,
      "outputs": [
        {
          "output_type": "stream",
          "name": "stdout",
          "text": [
            "1 ímpar\n",
            "2 par\n",
            "3 ímpar\n",
            "4 par\n",
            "5 ímpar\n",
            "6 par\n"
          ]
        }
      ]
    },
    {
      "cell_type": "code",
      "source": [
        "#Definição de um objeto - Class é um objeto (Dentro tem uma propriedades ou métodos)\n",
        "class Student:\n",
        "    def __init__(self):\n",
        "        self.name = \"John\"\n",
        "        self.grades = (90,90,93,78,90)"
      ],
      "metadata": {
        "id": "ibmVdc531udl"
      },
      "execution_count": null,
      "outputs": []
    },
    {
      "cell_type": "code",
      "source": [
        "person = Student()\n",
        "print(person.name)\n",
        "print(person.grades)\n",
        "print(sum(person.grades)/len(person.grades))"
      ],
      "metadata": {
        "colab": {
          "base_uri": "https://localhost:8080/"
        },
        "id": "fURc8m422bMS",
        "outputId": "799436f2-e2b9-4290-b46d-5a35711b864a"
      },
      "execution_count": null,
      "outputs": [
        {
          "output_type": "stream",
          "name": "stdout",
          "text": [
            "John\n",
            "(90, 90, 93, 78, 90)\n",
            "88.2\n"
          ]
        }
      ]
    },
    {
      "cell_type": "code",
      "source": [
        "class Student_plus_method:\n",
        "    def __init__(self): #Propriedade\n",
        "        self.name = 'Erisson'\n",
        "        self.grades = (90,90,93,78,90)\n",
        "\n",
        "    def average(self): #Método\n",
        "        return sum(self.grades)/len(self.grades)\n",
        "\n",
        "student = Student_plus_method() #student é o objeto\n",
        "print(student.average())\n"
      ],
      "metadata": {
        "colab": {
          "base_uri": "https://localhost:8080/"
        },
        "id": "j7a7cjj8vJHG",
        "outputId": "05873a1d-6fcb-4009-895e-39daca5c0627"
      },
      "execution_count": null,
      "outputs": [
        {
          "output_type": "stream",
          "name": "stdout",
          "text": [
            "88.2\n"
          ]
        }
      ]
    },
    {
      "cell_type": "code",
      "source": [
        "class Student_more_general:\n",
        "    def __init__(self,name,grades): #Propriedade são definida geralmente com a palavra self\n",
        "        self.name = name\n",
        "        self.grades = grades\n",
        "\n",
        "    def average(self): #Método\n",
        "        return sum(self.grades)/len(self.grades)\n",
        "\n",
        "student = Student_more_general('Erisson',(90,90,93,78,90)) #student é o objeto\n",
        "print(student.average())"
      ],
      "metadata": {
        "colab": {
          "base_uri": "https://localhost:8080/"
        },
        "id": "jCL1m37DysnQ",
        "outputId": "ffd020a6-f717-4b18-f371-f48b9e64a382"
      },
      "execution_count": 15,
      "outputs": [
        {
          "output_type": "stream",
          "name": "stdout",
          "text": [
            "88.2\n"
          ]
        }
      ]
    },
    {
      "cell_type": "code",
      "source": [
        "a = [1,2,3,4] #Lista\n",
        "b = np.array([1,2,3,4]) #Otimizado para operações algébricas devido o suporte dado pela biblioteca\n",
        "c = (1,2,3,4) #tuple (Uma vez defindo esse dado não é possível alterar os dados)\n",
        "d = {1,2,3,4} #set (Conjunto)"
      ],
      "metadata": {
        "id": "7hl_VFsA0lVy"
      },
      "execution_count": 14,
      "outputs": []
    }
  ]
}